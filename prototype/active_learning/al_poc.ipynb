{
 "cells": [
  {
   "cell_type": "code",
   "execution_count": 3,
   "metadata": {},
   "outputs": [],
   "source": [
    "from paje.base.data import Data\n",
    "from sklearn import datasets\n",
    "from sklearn.model_selection import train_test_split\n",
    "import pandas as pd\n",
    "import random as rd\n",
    "import numpy as np\n"
   ]
  },
  {
   "cell_type": "code",
   "execution_count": 4,
   "metadata": {},
   "outputs": [],
   "source": [
    "def iris_dataset(perc_label=0.3):\n",
    "        dataset = datasets.load_iris()\n",
    "        unlabeled_features, labeled_features, unlabeled_labels, labeled_labels = train_test_split(dataset.data,\n",
    "            dataset.target, test_size=perc_label, random_state=42)\n",
    "        unlabeled_features_0 = pd.DataFrame(unlabeled_features, columns=dataset.feature_names)\n",
    "        labeled_features_0 = pd.DataFrame(labeled_features, columns=dataset.feature_names)\n",
    "        unlabeled_labels_0 = pd.DataFrame(unlabeled_labels, columns=[\"label\"])\n",
    "        labeled_labels_0 = pd.DataFrame(labeled_labels, columns=[\"label\"])\n",
    "        return unlabeled_features_0, labeled_features_0, unlabeled_labels_0, labeled_labels_0\n",
    "    \n"
   ]
  },
  {
   "cell_type": "code",
   "execution_count": 5,
   "metadata": {},
   "outputs": [],
   "source": [
    "unlabeled_features, labeled_features, unlabeled_labels, labeled_labels = iris_dataset()"
   ]
  },
  {
   "cell_type": "code",
   "execution_count": 6,
   "metadata": {},
   "outputs": [],
   "source": [
    "unlabeled_data = Data(name='IrisUnlabeled', X=unlabeled_features.values, \n",
    "                      Y=unlabeled_labels.values, \n",
    "                      columns=list(unlabeled_features.columns) + list(unlabeled_labels.columns), \n",
    "                      history=None)\n",
    "\n",
    "labeled_data = Data(name='IrisLabeled', X=labeled_features.values, \n",
    "                      Y=labeled_labels.values, \n",
    "                      columns=list(labeled_features.columns) + list(labeled_labels.columns), \n",
    "                      history=None)\n",
    "\n",
    "unlabeled_iris = Data(name='IrisUnlabeled', X=unlabeled_features.values, \n",
    "                      columns=list(unlabeled_features.columns), \n",
    "                      history=None)"
   ]
  },
  {
   "cell_type": "code",
   "execution_count": 5,
   "metadata": {},
   "outputs": [
    {
     "data": {
      "text/plain": "dtype('float64')"
     },
     "execution_count": 5,
     "metadata": {},
     "output_type": "execute_result"
    }
   ],
   "source": [
    "unlabeled_iris.X.dtype"
   ]
  },
  {
   "cell_type": "code",
   "execution_count": 7,
   "metadata": {},
   "outputs": [],
   "source": [
    "class Oracle:\n",
    "    def __init__(self):\n",
    "        pass\n",
    "    \n"
   ]
  },
  {
   "cell_type": "code",
   "execution_count": 20,
   "metadata": {},
   "outputs": [],
   "source": [
    "class Strategy:\n",
    "    def __init__(self, datasource, ds_type, **kargs):\n",
    "        self.datasource = datasource\n",
    "        self.ds_type = ds_type.lower()\n",
    "    \n",
    "    def query(self, nr_instances):\n",
    "        pass\n",
    "    \n",
    "    @classmethod\n",
    "    def suported_types(cls):\n",
    "        return []\n",
    "    \n",
    "\n",
    "class RandomSampling(Strategy):\n",
    "    def __init__(self, datasource, ds_type, replacement=False, seed=None, **kargs):\n",
    "        super().__init__(datasource, ds_type)\n",
    "        self.set_type()\n",
    "\n",
    "        self.replacement = replacement\n",
    "        \n",
    "        if replacement:\n",
    "            self.to_query = None\n",
    "        else:\n",
    "            self.to_query = list(range(self.features_shape[0]))\n",
    "            \n",
    "        self.queried = []\n",
    "        rd.seed(seed)\n",
    "\n",
    "    def set_type(self):\n",
    "        if self.ds_type == 'paje_data':\n",
    "            self.features_shape = self.datasource.X.shape\n",
    "            self.query_function = self.query_paje_data\n",
    "        else:\n",
    "            print(\"Warning: type not defined!\")\n",
    "\n",
    "    @classmethod\n",
    "    def suported_types(cls):\n",
    "        return ['paje_data', 'sql']\n",
    "\n",
    "    def query(self, nr_records):\n",
    "        return self.query_function(nr_records)\n",
    "\n",
    "    def query_paje_data(self, nr_records):\n",
    "        insts = []\n",
    "        arr_inst = np.empty((0,self.features_shape[1]), self.datasource.X.dtype)\n",
    "        \n",
    "        if len(self.queried) == self.features_shape[0]:\n",
    "            return None\n",
    "        \n",
    "        if self.replacement:\n",
    "            insts += rd.sample(range(self.features_shape[0]), k=nr_records)\n",
    "            self.queried += insts\n",
    "        else:\n",
    "            aux_insts = rd.sample(range(len(self.to_query)), k=nr_records)\n",
    "            \n",
    "            for j in aux_insts:\n",
    "                insts.append(self.to_query[j])\n",
    "                del self.to_query[j]\n",
    "            self.queried += insts\n",
    "            \n",
    "        for record in insts:\n",
    "            arr_inst = np.append(arr_inst, [self.datasource.X[record,:]], axis=0)\n",
    "\n",
    "        return arr_inst\n",
    "            \n",
    "                \n",
    "                \n",
    "                \n"
   ]
  },
  {
   "cell_type": "code",
   "execution_count": 21,
   "metadata": {},
   "outputs": [],
   "source": [
    "rdss = RandomSampling(unlabeled_iris, 'paje_data')"
   ]
  },
  {
   "cell_type": "code",
   "execution_count": 23,
   "metadata": {},
   "outputs": [
    {
     "data": {
      "text/plain": "array([[5.6, 3. , 4.1, 1.3],\n       [4.9, 2.5, 4.5, 1.7]])"
     },
     "execution_count": 23,
     "metadata": {},
     "output_type": "execute_result"
    }
   ],
   "source": [
    "rdss.query(2)"
   ]
  },
  {
   "cell_type": "code",
   "execution_count": null,
   "metadata": {},
   "outputs": [],
   "source": []
  }
 ],
 "metadata": {
  "kernelspec": {
   "display_name": "Python 3",
   "language": "python",
   "name": "python3"
  },
  "language_info": {
   "codemirror_mode": {
    "name": "ipython",
    "version": 3
   },
   "file_extension": ".py",
   "mimetype": "text/x-python",
   "name": "python",
   "nbconvert_exporter": "python",
   "pygments_lexer": "ipython3",
   "version": "3.8.0"
  }
 },
 "nbformat": 4,
 "nbformat_minor": 4
}