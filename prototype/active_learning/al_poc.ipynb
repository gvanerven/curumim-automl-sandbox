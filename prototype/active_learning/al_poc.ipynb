{
 "cells": [
  {
   "cell_type": "code",
   "execution_count": 1,
   "metadata": {},
   "outputs": [],
   "source": [
    "from paje.base.data import Data\n",
    "from paje.activelearning.strategy.agnostic.random import RandomSampling\n",
    "from paje.activelearning.oracle.skloracle import SKLOracle\n",
    "from sklearn import datasets\n",
    "from sklearn.model_selection import train_test_split\n",
    "from paje.activelearning.datasets import skldatasets\n",
    "import pandas as pd\n",
    "import random as rd\n",
    "import numpy as np\n"
   ]
  },
  {
   "cell_type": "code",
   "execution_count": 2,
   "metadata": {},
   "outputs": [],
   "source": [
    "unlabeled_data, labeled_data, unlabeled_iris = skldatasets.iris_dataset()"
   ]
  },
  {
   "cell_type": "code",
   "execution_count": 3,
   "metadata": {},
   "outputs": [
    {
     "data": {
      "text/plain": "dtype('float64')"
     },
     "execution_count": 3,
     "metadata": {},
     "output_type": "execute_result"
    }
   ],
   "source": [
    "unlabeled_iris.X.dtype"
   ]
  },
  {
   "cell_type": "code",
   "execution_count": 4,
   "metadata": {},
   "outputs": [],
   "source": [
    "rdss = RandomSampling(unlabeled_iris, 'paje_data')"
   ]
  },
  {
   "cell_type": "code",
   "execution_count": 5,
   "metadata": {},
   "outputs": [
    {
     "data": {
      "text/plain": "<paje.base.data.Data at 0x7fe158626518>"
     },
     "execution_count": 5,
     "metadata": {},
     "output_type": "execute_result"
    }
   ],
   "source": [
    "sample = rdss.query(2)\n",
    "sample"
   ]
  },
  {
   "cell_type": "code",
   "execution_count": 6,
   "metadata": {},
   "outputs": [],
   "source": [
    "oracle = SKLOracle(unlabeled_data)\n",
    "sample_queried = oracle.label_instances(sample)"
   ]
  },
  {
   "cell_type": "code",
   "execution_count": 18,
   "metadata": {},
   "outputs": [
    {
     "data": {
      "text/plain": "array([[1],\n       [2]])"
     },
     "execution_count": 18,
     "metadata": {},
     "output_type": "execute_result"
    }
   ],
   "source": [
    "sample_queried.Y"
   ]
  },
  {
   "cell_type": "code",
   "execution_count": 17,
   "metadata": {},
   "outputs": [
    {
     "name": "stdout",
     "output_type": "stream",
     "text": "[(0, array([5.5, 2.4, 3.7, 1. ])), (1, array([6.3, 2.8, 5.1, 1.5])), (2, array([6.4, 3.1, 5.5, 1.8])), (3, array([6.6, 3. , 4.4, 1.4])), (4, array([7.2, 3.6, 6.1, 2.5])), (5, array([5.7, 2.9, 4.2, 1.3])), (6, array([7.6, 3. , 6.6, 2.1])), (7, array([5.6, 3. , 4.5, 1.5])), (8, array([5.1, 3.5, 1.4, 0.2])), (9, array([7.7, 2.8, 6.7, 2. ])), (10, array([5.8, 2.7, 4.1, 1. ])), (11, array([5.2, 3.4, 1.4, 0.2])), (12, array([5. , 3.5, 1.3, 0.3])), (13, array([5.1, 3.8, 1.9, 0.4])), (14, array([5. , 2. , 3.5, 1. ])), (15, array([6.3, 2.7, 4.9, 1.8])), (16, array([4.8, 3.4, 1.9, 0.2])), (17, array([5. , 3. , 1.6, 0.2])), (18, array([5.1, 3.3, 1.7, 0.5])), (19, array([5.6, 2.7, 4.2, 1.3])), (20, array([5.1, 3.4, 1.5, 0.2])), (21, array([5.7, 3. , 4.2, 1.2])), (22, array([7.7, 3.8, 6.7, 2.2])), (23, array([4.6, 3.2, 1.4, 0.2])), (24, array([6.2, 2.9, 4.3, 1.3])), (25, array([5.7, 2.5, 5. , 2. ])), (26, array([5.5, 4.2, 1.4, 0.2])), (27, array([6. , 3. , 4.8, 1.8])), (28, array([5.8, 2.7, 5.1, 1.9])), (29, array([6. , 2.2, 4. , 1. ])), (30, array([5.4, 3. , 4.5, 1.5])), (31, array([6.2, 3.4, 5.4, 2.3])), (32, array([5.5, 2.3, 4. , 1.3])), (33, array([5.4, 3.9, 1.7, 0.4])), (34, array([5. , 2.3, 3.3, 1. ])), (35, array([6.4, 2.7, 5.3, 1.9])), (36, array([5. , 3.3, 1.4, 0.2])), (37, array([5. , 3.2, 1.2, 0.2])), (38, array([5.5, 2.4, 3.8, 1.1])), (39, array([6.7, 3. , 5. , 1.7])), (40, array([4.9, 3.1, 1.5, 0.2])), (41, array([5.8, 2.8, 5.1, 2.4])), (42, array([5. , 3.4, 1.5, 0.2])), (43, array([5. , 3.5, 1.6, 0.6])), (44, array([5.9, 3.2, 4.8, 1.8])), (45, array([5.1, 2.5, 3. , 1.1])), (46, array([6.9, 3.2, 5.7, 2.3])), (47, array([6. , 2.7, 5.1, 1.6])), (48, array([6.1, 2.6, 5.6, 1.4])), (49, array([7.7, 3. , 6.1, 2.3])), (50, array([5.5, 2.5, 4. , 1.3])), (51, array([4.4, 2.9, 1.4, 0.2])), (52, array([4.3, 3. , 1.1, 0.1])), (53, array([6. , 2.2, 5. , 1.5])), (54, array([7.2, 3.2, 6. , 1.8])), (55, array([4.6, 3.1, 1.5, 0.2])), (56, array([5.1, 3.5, 1.4, 0.3])), (57, array([4.4, 3. , 1.3, 0.2])), (58, array([6.3, 2.5, 4.9, 1.5])), (59, array([6.3, 3.4, 5.6, 2.4])), (60, array([4.6, 3.4, 1.4, 0.3])), (61, array([6.8, 3. , 5.5, 2.1])), (62, array([6.3, 3.3, 6. , 2.5])), (63, array([4.7, 3.2, 1.3, 0.2])), (64, array([6.1, 2.9, 4.7, 1.4])), (65, array([6.5, 2.8, 4.6, 1.5])), (66, array([6.2, 2.8, 4.8, 1.8])), (67, array([7. , 3.2, 4.7, 1.4])), (68, array([6.4, 3.2, 5.3, 2.3])), (69, array([5.1, 3.8, 1.6, 0.2])), (70, array([6.9, 3.1, 5.4, 2.1])), (71, array([5.9, 3. , 4.2, 1.5])), (72, array([6.5, 3. , 5.2, 2. ])), (73, array([5.7, 2.6, 3.5, 1. ])), (74, array([5.2, 2.7, 3.9, 1.4])), (75, array([6.1, 3. , 4.6, 1.4])), (76, array([4.5, 2.3, 1.3, 0.3])), (77, array([6.6, 2.9, 4.6, 1.3])), (78, array([5.5, 2.6, 4.4, 1.2])), (79, array([5.3, 3.7, 1.5, 0.2])), (80, array([5.6, 3. , 4.1, 1.3])), (81, array([7.3, 2.9, 6.3, 1.8])), (82, array([6.7, 3.3, 5.7, 2.1])), (83, array([5.1, 3.7, 1.5, 0.4])), (84, array([4.9, 2.4, 3.3, 1. ])), (85, array([6.7, 3.3, 5.7, 2.5])), (86, array([7.2, 3. , 5.8, 1.6])), (87, array([4.9, 3.6, 1.4, 0.1])), (88, array([6.7, 3.1, 5.6, 2.4])), (89, array([4.9, 3. , 1.4, 0.2])), (90, array([6.9, 3.1, 4.9, 1.5])), (91, array([7.4, 2.8, 6.1, 1.9])), (92, array([6.3, 2.9, 5.6, 1.8])), (93, array([5.7, 2.8, 4.1, 1.3])), (94, array([6.5, 3. , 5.5, 1.8])), (95, array([6.3, 2.3, 4.4, 1.3])), (96, array([6.4, 2.9, 4.3, 1.3])), (97, array([5.6, 2.8, 4.9, 2. ])), (98, array([5.9, 3. , 5.1, 1.8])), (99, array([5.4, 3.4, 1.7, 0.2])), (100, array([6.1, 2.8, 4. , 1.3])), (101, array([4.9, 2.5, 4.5, 1.7])), (102, array([5.8, 4. , 1.2, 0.2])), (103, array([5.8, 2.6, 4. , 1.2])), (104, array([7.1, 3. , 5.9, 2.1]))] \n \n [(0, array([1])), (1, array([2])), (2, array([2])), (3, array([1])), (4, array([2])), (5, array([1])), (6, array([2])), (7, array([1])), (8, array([0])), (9, array([2])), (10, array([1])), (11, array([0])), (12, array([0])), (13, array([0])), (14, array([1])), (15, array([2])), (16, array([0])), (17, array([0])), (18, array([0])), (19, array([1])), (20, array([0])), (21, array([1])), (22, array([2])), (23, array([0])), (24, array([1])), (25, array([2])), (26, array([0])), (27, array([2])), (28, array([2])), (29, array([1])), (30, array([1])), (31, array([2])), (32, array([1])), (33, array([0])), (34, array([1])), (35, array([2])), (36, array([0])), (37, array([0])), (38, array([1])), (39, array([1])), (40, array([0])), (41, array([2])), (42, array([0])), (43, array([0])), (44, array([1])), (45, array([1])), (46, array([2])), (47, array([1])), (48, array([2])), (49, array([2])), (50, array([1])), (51, array([0])), (52, array([0])), (53, array([2])), (54, array([2])), (55, array([0])), (56, array([0])), (57, array([0])), (58, array([1])), (59, array([2])), (60, array([0])), (61, array([2])), (62, array([2])), (63, array([0])), (64, array([1])), (65, array([1])), (66, array([2])), (67, array([1])), (68, array([2])), (69, array([0])), (70, array([2])), (71, array([1])), (72, array([2])), (73, array([1])), (74, array([1])), (75, array([1])), (76, array([0])), (77, array([1])), (78, array([1])), (79, array([0])), (80, array([1])), (81, array([2])), (82, array([2])), (83, array([0])), (84, array([1])), (85, array([2])), (86, array([2])), (87, array([0])), (88, array([2])), (89, array([0])), (90, array([1])), (91, array([2])), (92, array([2])), (93, array([1])), (94, array([2])), (95, array([1])), (96, array([1])), (97, array([2])), (98, array([2])), (99, array([0])), (100, array([1])), (101, array([2])), (102, array([0])), (103, array([1])), (104, array([2]))]\n"
    }
   ],
   "source": [
    "print(list(enumerate(unlabeled_data.X)), \"\\n\",\"\\n\", list(enumerate(unlabeled_data.Y)))"
   ]
  }
 ],
 "metadata": {
  "kernelspec": {
   "display_name": "Python 3",
   "language": "python",
   "name": "python3"
  },
  "language_info": {
   "codemirror_mode": {
    "name": "ipython",
    "version": 3
   },
   "file_extension": ".py",
   "mimetype": "text/x-python",
   "name": "python",
   "nbconvert_exporter": "python",
   "pygments_lexer": "ipython3",
   "version": "3.6.9-final"
  }
 },
 "nbformat": 4,
 "nbformat_minor": 4
}